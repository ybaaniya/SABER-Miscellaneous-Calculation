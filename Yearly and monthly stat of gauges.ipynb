{
 "cells": [
  {
   "cell_type": "code",
   "execution_count": 1,
   "metadata": {},
   "outputs": [],
   "source": [
    "import os\n",
    "import glob\n",
    "import pandas as pd"
   ]
  },
  {
   "cell_type": "markdown",
   "metadata": {},
   "source": [
    "This code will count the total number of valid observration for monthly and annually scale including zero"
   ]
  },
  {
   "cell_type": "code",
   "execution_count": 2,
   "metadata": {},
   "outputs": [],
   "source": [
    "# Define the path to the folder containing the CSV files\n",
    "folder_path = '/Users/yubin/Library/CloudStorage/Box-Box/Bias Correction/India Excels/Hydroserver/processed'\n",
    "output_path = '/Users/yubin/Library/CloudStorage/Box-Box/Bias Correction/India Excels/Hydroserver'\n",
    "\n",
    "# Get a list of all CSV files in the folder\n",
    "csv_files = glob.glob(os.path.join(folder_path, '*.csv'))\n",
    "\n",
    "# Define the range of years and months\n",
    "years = list(range(1940, 2024 + 1))\n",
    "months = list(range(1, 13))\n",
    "\n",
    "# Create empty DataFrames for yearly and monthly summaries with the required columns\n",
    "yearly_summary_df = pd.DataFrame(columns=['File'] + years)\n",
    "monthly_summary_df = pd.DataFrame(columns=['File'] + months)"
   ]
  },
  {
   "cell_type": "code",
   "execution_count": 3,
   "metadata": {},
   "outputs": [
    {
     "name": "stdout",
     "output_type": "stream",
     "text": [
      "Yearly summary saved to /Users/yubin/Library/CloudStorage/Box-Box/Bias Correction/India Excels/Hydroserver/yearly_summary_observations with zero.csv\n",
      "Monthly summary saved to /Users/yubin/Library/CloudStorage/Box-Box/Bias Correction/India Excels/Hydroserver/monthly_summary_observations with zero.csv\n"
     ]
    }
   ],
   "source": [
    "# Loop over each CSV file to process data\n",
    "for file in csv_files:\n",
    "    # Extract the file name without the .csv extension\n",
    "    file_name = os.path.basename(file).replace('.csv', '')\n",
    "    \n",
    "    # Read the CSV file\n",
    "    data = pd.read_csv(file)\n",
    "    \n",
    "    # Convert the 'Datetime' column to datetime type\n",
    "    data['Datetime'] = pd.to_datetime(data['Datetime'])\n",
    "    \n",
    "    # Extract year and month from the 'Datetime' column\n",
    "    data['Year'] = data['Datetime'].dt.year\n",
    "    data['Month'] = data['Datetime'].dt.month\n",
    "    \n",
    "    # Group by year and count the number of observations\n",
    "    yearly_counts = data.groupby('Year').size().reindex(years, fill_value=0).reset_index(name='Total Observations')\n",
    "    yearly_counts = yearly_counts.set_index('Year').transpose()\n",
    "    yearly_counts['File'] = file_name\n",
    "    yearly_summary_df = pd.concat([yearly_summary_df, yearly_counts], ignore_index=True)\n",
    "    \n",
    "    # Group by month and count the number of observations across all years\n",
    "    monthly_counts = data.groupby('Month').size().reindex(months, fill_value=0).reset_index(name='Total Observations')\n",
    "    monthly_counts = monthly_counts.set_index('Month').transpose()\n",
    "    monthly_counts['File'] = file_name\n",
    "    monthly_summary_df = pd.concat([monthly_summary_df, monthly_counts], ignore_index=True)\n",
    "\n",
    "# Reorder the columns to have 'File' as the first column\n",
    "yearly_summary_df = yearly_summary_df[['File'] + years]\n",
    "monthly_summary_df = monthly_summary_df[['File'] + months]\n",
    "\n",
    "# Define the paths to save the summary CSV files\n",
    "yearly_summary_file_path = os.path.join(output_path, 'yearly_summary_observations with zero.csv')\n",
    "monthly_summary_file_path = os.path.join(output_path, 'monthly_summary_observations with zero.csv')\n",
    "\n",
    "# Save the summary DataFrames to CSV files\n",
    "yearly_summary_df.to_csv(yearly_summary_file_path, index=False)\n",
    "monthly_summary_df.to_csv(monthly_summary_file_path, index=False)\n",
    "\n",
    "print(f\"Yearly summary saved to {yearly_summary_file_path}\")\n",
    "print(f\"Monthly summary saved to {monthly_summary_file_path}\")"
   ]
  },
  {
   "cell_type": "markdown",
   "metadata": {},
   "source": [
    "Below code will count the total number of non zero obervation and non negative in year and month"
   ]
  },
  {
   "cell_type": "code",
   "execution_count": 6,
   "metadata": {},
   "outputs": [],
   "source": [
    "# Define the path to the folder containing the CSV files\n",
    "folder_path = '/Users/yubin/Library/CloudStorage/Box-Box/Bias Correction/Asia/China/hydroserver ready/processed'\n",
    "output_path = '/Users/yubin/Library/CloudStorage/Box-Box/Bias Correction/Asia/China/hydroserver ready/Hydroserver'"
   ]
  },
  {
   "cell_type": "code",
   "execution_count": 7,
   "metadata": {},
   "outputs": [
    {
     "name": "stdout",
     "output_type": "stream",
     "text": [
      "Yearly summary saved to /Users/yubin/Library/CloudStorage/Box-Box/Bias Correction/Asia/China/hydroserver ready/Hydroserver/yearly_summary_valid_observations 12.csv\n",
      "Monthly summary saved to /Users/yubin/Library/CloudStorage/Box-Box/Bias Correction/Asia/China/hydroserver ready/Hydroserver/monthly_summary_valid_observations 12.csv\n"
     ]
    }
   ],
   "source": [
    "# Get a list of all CSV files in the folder\n",
    "csv_files = glob.glob(os.path.join(folder_path, '*.csv'))\n",
    "\n",
    "# Define the range of years and months\n",
    "years = list(range(1940, 2024 + 1))\n",
    "months = list(range(1, 13))\n",
    "\n",
    "# Create empty DataFrames for yearly and monthly summaries with the required columns\n",
    "yearly_summary_df = pd.DataFrame(columns=['File'] + years)\n",
    "monthly_summary_df = pd.DataFrame(columns=['File'] + months)\n",
    "\n",
    "# Loop over each CSV file to process data\n",
    "for file in csv_files:\n",
    "    # Extract the file name without the .csv extension\n",
    "    file_name = os.path.basename(file).replace('.csv', '')\n",
    "    \n",
    "    # Read the CSV file\n",
    "    data = pd.read_csv(file)\n",
    "    \n",
    "    # Convert the 'Datetime' column to datetime type\n",
    "    data['Datetime'] = pd.to_datetime(data['Datetime'])\n",
    "    \n",
    "    # Extract year and month from the 'Datetime' column\n",
    "    data['Year'] = data['Datetime'].dt.year\n",
    "    data['Month'] = data['Datetime'].dt.month\n",
    "    \n",
    "    # Remove non-numerical values, convert to numeric and remove NaN\n",
    "    data['Modified_Streamflow'] = pd.to_numeric(data['Modified_Streamflow'], errors='coerce')\n",
    "    \n",
    "    # Filter out rows where the value is negative, zero, or NaN\n",
    "    valid_data = data[(data['Modified_Streamflow'] > 0) & (~data['Modified_Streamflow'].isna())]\n",
    "    \n",
    "    # Group by year and count the number of valid (non-negative, non-zero) observations\n",
    "    yearly_counts = valid_data.groupby('Year').size().reindex(years, fill_value=0).reset_index(name='Valid Observations')\n",
    "    yearly_counts = yearly_counts.set_index('Year').transpose()\n",
    "    yearly_counts['File'] = file_name\n",
    "    yearly_summary_df = pd.concat([yearly_summary_df, yearly_counts], ignore_index=True)\n",
    "    \n",
    "    # Group by month and count the number of valid (non-negative, non-zero) observations across all years\n",
    "    monthly_counts = valid_data.groupby('Month').size().reindex(months, fill_value=0).reset_index(name='Valid Observations')\n",
    "    monthly_counts = monthly_counts.set_index('Month').transpose()\n",
    "    monthly_counts['File'] = file_name\n",
    "    monthly_summary_df = pd.concat([monthly_summary_df, monthly_counts], ignore_index=True)\n",
    "\n",
    "# Reorder the columns to have 'File' as the first column\n",
    "yearly_summary_df = yearly_summary_df[['File'] + years]\n",
    "monthly_summary_df = monthly_summary_df[['File'] + months]\n",
    "\n",
    "# Define the paths to save the summary CSV files\n",
    "yearly_summary_file_path = os.path.join(output_path, 'yearly_summary_valid_observations 12.csv')\n",
    "monthly_summary_file_path = os.path.join(output_path, 'monthly_summary_valid_observations 12.csv')\n",
    "\n",
    "# Save the summary DataFrames to CSV files\n",
    "yearly_summary_df.to_csv(yearly_summary_file_path, index=False)\n",
    "monthly_summary_df.to_csv(monthly_summary_file_path, index=False)\n",
    "\n",
    "print(f\"Yearly summary saved to {yearly_summary_file_path}\")\n",
    "print(f\"Monthly summary saved to {monthly_summary_file_path}\")\n"
   ]
  }
 ],
 "metadata": {
  "kernelspec": {
   "display_name": "Python 3",
   "language": "python",
   "name": "python3"
  },
  "language_info": {
   "codemirror_mode": {
    "name": "ipython",
    "version": 3
   },
   "file_extension": ".py",
   "mimetype": "text/x-python",
   "name": "python",
   "nbconvert_exporter": "python",
   "pygments_lexer": "ipython3",
   "version": "3.12.0"
  }
 },
 "nbformat": 4,
 "nbformat_minor": 2
}
